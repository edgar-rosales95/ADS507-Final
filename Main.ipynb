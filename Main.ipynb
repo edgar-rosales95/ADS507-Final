{
 "cells": [
  {
   "cell_type": "markdown",
   "metadata": {},
   "source": [
    "# This pulls in the wildfire data and reads it"
   ]
  },
  {
   "cell_type": "code",
   "execution_count": null,
   "metadata": {},
   "outputs": [],
   "source": [
    "use_cols = ['OBJECTID', 'FIRE_NAME', 'LATITUDE', 'LONGITUDE', 'DISCOVERY_DATE', 'NWCG_CAUSE_CLASSIFICATION', 'NWCG_GENERAL_CAUSE', 'FIRE_SIZE', \n",
    "            'FIRE_SIZE_CLASS', 'OWNER_DESCR', 'STATE', 'FIPS_NAME']\n",
    "\n",
    "# import kagglehub\n",
    "# from kagglehub import KaggleDatasetAdapter\n",
    "\n",
    "# Download latest version\n",
    "wildfire_df = kagglehub.load_dataset(handle = \"behroozsohrabi/us-wildfire-records-6th-edition\", path = \"data.csv\", \n",
    "                                   adapter = KaggleDatasetAdapter.PANDAS, \n",
    "                                   pandas_kwargs={\"usecols\": use_cols, \"compression\": \"zip\"})"
   ]
  },
  {
   "cell_type": "code",
   "execution_count": null,
   "metadata": {},
   "outputs": [],
   "source": [
    "# wildfire_df = pd.read_csv('data.csv')\n",
    "# Convert DISCOVERY_DATE to datetime object to remove records prior to year 2000\n",
    "\n",
    "wildfire_df['DISCOVERY_DATE'] = pd.to_datetime(wildfire_df['DISCOVERY_DATE'], format = ('%m/%d/%Y'))\n",
    "\n",
    "wildfire_df = wildfire_df[wildfire_df['DISCOVERY_DATE'].dt.year > 2000]"
   ]
  },
  {
   "cell_type": "code",
   "execution_count": null,
   "metadata": {},
   "outputs": [],
   "source": [
    "# Rename some columns for clarity\n",
    "\n",
    "wildfire_df = wildfire_df.rename(columns = {\"NWCG_CAUSE_CLASSIFICATION\": \"CAUSE_CLASSIFICATION\", \"NWCG_GENERAL_CAUSE\": \"SPECIFIC_CAUSE\", \n",
    "                                            \"OWNER_DESCR\": \"RESPONSIBLE_ENTITY\", \"FIPS_NAME\": \"COUNTY\"})"
   ]
  },
  {
   "cell_type": "markdown",
   "metadata": {},
   "source": [
    "# This pulls in housing data"
   ]
  },
  {
   "cell_type": "code",
   "execution_count": 3,
   "metadata": {},
   "outputs": [],
   "source": [
    "bottom_tier_housing = pd.read_parquet('data/bottom_housing.parquet')\n",
    "top_tier_housing = pd.read_parquet('data/top_housing.parquet')"
   ]
  },
  {
   "cell_type": "markdown",
   "metadata": {},
   "source": [
    "## Remove Columns we don't use"
   ]
  },
  {
   "cell_type": "code",
   "execution_count": null,
   "metadata": {},
   "outputs": [],
   "source": [
    "remove_cols = ['RegionType', 'StateName']\n",
    "\n",
    "bottom_tier_housing.drop(columns = remove_cols, inplace = True)\n",
    "top_tier_housing.drop(columns = remove_cols, inplace = True)"
   ]
  },
  {
   "cell_type": "markdown",
   "metadata": {},
   "source": [
    "## Remove rows with states we aren't using"
   ]
  },
  {
   "cell_type": "code",
   "execution_count": null,
   "metadata": {},
   "outputs": [],
   "source": [
    "states = ['CA', 'TX', 'GA', 'FL', 'AZ']\n",
    "\n",
    "filtered_bottom_tier = bottom_tier_housing[bottom_tier_housing['State'].isin(states)]\n",
    "filtered_top_tier = top_tier_housing[top_tier_housing['State'].isin(states)]\n"
   ]
  },
  {
   "cell_type": "markdown",
   "metadata": {},
   "source": [
    "# Rent Data (load and remove columns'state values)"
   ]
  },
  {
   "cell_type": "code",
   "execution_count": 44,
   "metadata": {},
   "outputs": [],
   "source": [
    "rent_index = pd.read_csv(\"data/Observed Rent Index by City.csv\")"
   ]
  },
  {
   "cell_type": "code",
   "execution_count": null,
   "metadata": {},
   "outputs": [
    {
     "ename": "NameError",
     "evalue": "name 'remove_cols' is not defined",
     "output_type": "error",
     "traceback": [
      "\u001b[1;31m---------------------------------------------------------------------------\u001b[0m",
      "\u001b[1;31mNameError\u001b[0m                                 Traceback (most recent call last)",
      "Cell \u001b[1;32mIn[46], line 1\u001b[0m\n\u001b[1;32m----> 1\u001b[0m rent_index\u001b[38;5;241m.\u001b[39mdrop(columns \u001b[38;5;241m=\u001b[39m \u001b[43mremove_cols\u001b[49m, inplace \u001b[38;5;241m=\u001b[39m \u001b[38;5;28;01mTrue\u001b[39;00m)\n",
      "\u001b[1;31mNameError\u001b[0m: name 'remove_cols' is not defined"
     ]
    }
   ],
   "source": [
    "# Columns and state values to remove are same as housing sales data\n",
    "\n",
    "rent_index.drop(columns = remove_cols, inplace = True)\n",
    "filtered_rent_index = rent_index[rent_index['State'].isin(states)]"
   ]
  },
  {
   "cell_type": "markdown",
   "metadata": {},
   "source": [
    "# Load Population Data"
   ]
  },
  {
   "cell_type": "code",
   "execution_count": 56,
   "metadata": {},
   "outputs": [],
   "source": [
    "state_population_dict = {}\n",
    "\n",
    "for state in states:\n",
    "    state_population_dict[state] = pd.read_csv(f\"data/{state} City population estimates.csv\")"
   ]
  },
  {
   "cell_type": "code",
   "execution_count": 57,
   "metadata": {},
   "outputs": [
    {
     "ename": "AttributeError",
     "evalue": "'dict' object has no attribute 'head'",
     "output_type": "error",
     "traceback": [
      "\u001b[1;31m---------------------------------------------------------------------------\u001b[0m",
      "\u001b[1;31mAttributeError\u001b[0m                            Traceback (most recent call last)",
      "Cell \u001b[1;32mIn[57], line 1\u001b[0m\n\u001b[1;32m----> 1\u001b[0m \u001b[43mstate_population_dict\u001b[49m\u001b[38;5;241;43m.\u001b[39;49m\u001b[43mhead\u001b[49m()\n",
      "\u001b[1;31mAttributeError\u001b[0m: 'dict' object has no attribute 'head'"
     ]
    }
   ],
   "source": [
    "state_population_dict.head()"
   ]
  }
 ],
 "metadata": {
  "kernelspec": {
   "display_name": "Python 3",
   "language": "python",
   "name": "python3"
  },
  "language_info": {
   "codemirror_mode": {
    "name": "ipython",
    "version": 3
   },
   "file_extension": ".py",
   "mimetype": "text/x-python",
   "name": "python",
   "nbconvert_exporter": "python",
   "pygments_lexer": "ipython3",
   "version": "3.13.1"
  }
 },
 "nbformat": 4,
 "nbformat_minor": 2
}
