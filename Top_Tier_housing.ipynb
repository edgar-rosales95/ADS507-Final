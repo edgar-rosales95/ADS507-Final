{
 "cells": [
  {
   "cell_type": "code",
   "execution_count": 1,
   "metadata": {},
   "outputs": [],
   "source": [
    "top_tier_df = pd.read_csv(\"G:/My Drive/Practical Data Engineering - 507/ADS 507 Project/Top Tier Housing Prices by City.csv\")"
   ]
  },
  {
   "cell_type": "code",
   "execution_count": 2,
   "metadata": {},
   "outputs": [
    {
     "data": {
      "text/plain": [
       "Index(['RegionID', 'SizeRank', 'RegionName', 'RegionType', 'StateName',\n",
       "       'State', 'Metro', 'CountyName', '1/31/2000', '2/29/2000'],\n",
       "      dtype='object')"
      ]
     },
     "execution_count": 2,
     "metadata": {},
     "output_type": "execute_result"
    }
   ],
   "source": [
    "top_tier_df.columns[:10]"
   ]
  },
  {
   "cell_type": "code",
   "execution_count": 3,
   "metadata": {},
   "outputs": [
    {
     "data": {
      "text/plain": [
       "float64    300\n",
       "object       6\n",
       "int64        2\n",
       "Name: count, dtype: int64"
      ]
     },
     "execution_count": 3,
     "metadata": {},
     "output_type": "execute_result"
    }
   ],
   "source": [
    "top_tier_df.dtypes.value_counts()"
   ]
  },
  {
   "cell_type": "code",
   "execution_count": 4,
   "metadata": {},
   "outputs": [
    {
     "data": {
      "text/plain": [
       "(21658, 308)"
      ]
     },
     "execution_count": 4,
     "metadata": {},
     "output_type": "execute_result"
    }
   ],
   "source": [
    "top_tier_df.shape"
   ]
  },
  {
   "cell_type": "code",
   "execution_count": 5,
   "metadata": {},
   "outputs": [
    {
     "data": {
      "text/plain": [
       "RegionID          0\n",
       "SizeRank          0\n",
       "RegionName        0\n",
       "RegionType        0\n",
       "StateName         0\n",
       "State             0\n",
       "Metro          4511\n",
       "CountyName        0\n",
       "1/31/2000     12711\n",
       "2/29/2000     12664\n",
       "3/31/2000     12653\n",
       "4/30/2000     12630\n",
       "5/31/2000     12580\n",
       "6/30/2000     12569\n",
       "7/31/2000     12545\n",
       "dtype: int64"
      ]
     },
     "execution_count": 5,
     "metadata": {},
     "output_type": "execute_result"
    }
   ],
   "source": [
    "top_tier_df.isna().sum()[:15]"
   ]
  },
  {
   "cell_type": "code",
   "execution_count": 7,
   "metadata": {},
   "outputs": [
    {
     "data": {
      "text/plain": [
       "False    21658\n",
       "Name: count, dtype: int64"
      ]
     },
     "execution_count": 7,
     "metadata": {},
     "output_type": "execute_result"
    }
   ],
   "source": [
    "top_tier_df.duplicated().value_counts()"
   ]
  },
  {
   "cell_type": "code",
   "execution_count": 13,
   "metadata": {},
   "outputs": [
    {
     "data": {
      "text/plain": [
       "Metro\n",
       "Phoenix-Mesa-Chandler, AZ       50\n",
       "Prescott Valley-Prescott, AZ    20\n",
       "Sierra Vista-Douglas, AZ        15\n",
       "Tucson, AZ                      14\n",
       "Lake Havasu City-Kingman, AZ    11\n",
       "Flagstaff, AZ                   10\n",
       "Show Low, AZ                     9\n",
       "Payson, AZ                       8\n",
       "Nogales, AZ                      6\n",
       "Yuma, AZ                         5\n",
       "Safford, AZ                      4\n",
       "Name: count, dtype: int64"
      ]
     },
     "execution_count": 13,
     "metadata": {},
     "output_type": "execute_result"
    }
   ],
   "source": [
    "top_tier_df[top_tier_df['StateName'] == 'AZ']['Metro'].value_counts()"
   ]
  },
  {
   "cell_type": "code",
   "execution_count": 17,
   "metadata": {},
   "outputs": [
    {
     "data": {
      "text/plain": [
       "CountyName\n",
       "Maricopa County      35\n",
       "Yavapai County       20\n",
       "Pinal County         15\n",
       "Cochise County       15\n",
       "Pima County          14\n",
       "Mohave County        11\n",
       "Coconino County      10\n",
       "Navajo County         9\n",
       "Gila County           8\n",
       "Apache County         8\n",
       "Santa Cruz County     6\n",
       "Yuma County           5\n",
       "La Paz County         5\n",
       "Graham County         4\n",
       "Greenlee County       1\n",
       "Name: count, dtype: int64"
      ]
     },
     "execution_count": 17,
     "metadata": {},
     "output_type": "execute_result"
    }
   ],
   "source": [
    "top_tier_df[top_tier_df['State'] == 'AZ']['CountyName'].value_counts()"
   ]
  }
 ],
 "metadata": {
  "kernelspec": {
   "display_name": "Python 3",
   "language": "python",
   "name": "python3"
  },
  "language_info": {
   "codemirror_mode": {
    "name": "ipython",
    "version": 3
   },
   "file_extension": ".py",
   "mimetype": "text/x-python",
   "name": "python",
   "nbconvert_exporter": "python",
   "pygments_lexer": "ipython3",
   "version": "3.13.1"
  }
 },
 "nbformat": 4,
 "nbformat_minor": 2
}
