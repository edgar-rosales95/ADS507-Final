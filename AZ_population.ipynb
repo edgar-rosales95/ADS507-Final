{
 "cells": [
  {
   "cell_type": "code",
   "execution_count": 1,
   "metadata": {},
   "outputs": [],
   "source": [
    "az_df = pd.read_csv(\"G:/My Drive/Practical Data Engineering - 507/ADS 507 Project/AZ city population estimates.csv\")"
   ]
  },
  {
   "cell_type": "code",
   "execution_count": 2,
   "metadata": {},
   "outputs": [
    {
     "data": {
      "text/plain": [
       "Index(['SUMLEV', 'STATE', 'COUNTY', 'PLACE', 'COUSUB', 'CONCIT',\n",
       "       'PRIMGEO_FLAG', 'FUNCSTAT', 'NAME', 'STNAME', 'CENSUS2010POP',\n",
       "       'ESTIMATESBASE2010', 'POPESTIMATE2010', 'POPESTIMATE2011',\n",
       "       'POPESTIMATE2012', 'POPESTIMATE2013', 'POPESTIMATE2014',\n",
       "       'POPESTIMATE2015', 'POPESTIMATE2016', 'POPESTIMATE2017',\n",
       "       'POPESTIMATE2018', 'POPESTIMATE2019'],\n",
       "      dtype='object')"
      ]
     },
     "execution_count": 2,
     "metadata": {},
     "output_type": "execute_result"
    }
   ],
   "source": [
    "az_df.columns"
   ]
  },
  {
   "cell_type": "code",
   "execution_count": 3,
   "metadata": {},
   "outputs": [
    {
     "data": {
      "text/plain": [
       "(221, 22)"
      ]
     },
     "execution_count": 3,
     "metadata": {},
     "output_type": "execute_result"
    }
   ],
   "source": [
    "az_df.shape"
   ]
  },
  {
   "cell_type": "code",
   "execution_count": 4,
   "metadata": {},
   "outputs": [
    {
     "data": {
      "text/plain": [
       "SUMLEV               0\n",
       "STATE                0\n",
       "COUNTY               0\n",
       "PLACE                0\n",
       "COUSUB               0\n",
       "CONCIT               0\n",
       "PRIMGEO_FLAG         0\n",
       "FUNCSTAT             0\n",
       "NAME                 0\n",
       "STNAME               0\n",
       "CENSUS2010POP        0\n",
       "ESTIMATESBASE2010    0\n",
       "POPESTIMATE2010      0\n",
       "POPESTIMATE2011      0\n",
       "POPESTIMATE2012      0\n",
       "POPESTIMATE2013      0\n",
       "POPESTIMATE2014      0\n",
       "POPESTIMATE2015      0\n",
       "POPESTIMATE2016      0\n",
       "POPESTIMATE2017      0\n",
       "POPESTIMATE2018      0\n",
       "POPESTIMATE2019      0\n",
       "dtype: int64"
      ]
     },
     "execution_count": 4,
     "metadata": {},
     "output_type": "execute_result"
    }
   ],
   "source": [
    "az_df.isna().sum()"
   ]
  },
  {
   "cell_type": "code",
   "execution_count": 5,
   "metadata": {},
   "outputs": [
    {
     "data": {
      "text/plain": [
       "False    221\n",
       "Name: count, dtype: int64"
      ]
     },
     "execution_count": 5,
     "metadata": {},
     "output_type": "execute_result"
    }
   ],
   "source": [
    "az_df.duplicated().value_counts()"
   ]
  },
  {
   "cell_type": "code",
   "execution_count": 6,
   "metadata": {},
   "outputs": [
    {
     "data": {
      "text/plain": [
       "int64     18\n",
       "object     4\n",
       "Name: count, dtype: int64"
      ]
     },
     "execution_count": 6,
     "metadata": {},
     "output_type": "execute_result"
    }
   ],
   "source": [
    "az_df.dtypes.value_counts()"
   ]
  },
  {
   "cell_type": "code",
   "execution_count": 17,
   "metadata": {},
   "outputs": [
    {
     "data": {
      "text/plain": [
       "COUNTY\n",
       "0     92\n",
       "13    27\n",
       "21    15\n",
       "25    13\n",
       "3      9\n",
       "5      8\n",
       "7      8\n",
       "17     8\n",
       "19     7\n",
       "15     6\n",
       "27     6\n",
       "1      5\n",
       "9      5\n",
       "11     4\n",
       "12     4\n",
       "23     4\n",
       "Name: count, dtype: int64"
      ]
     },
     "execution_count": 17,
     "metadata": {},
     "output_type": "execute_result"
    }
   ],
   "source": [
    "az_df['COUNTY'].value_counts()"
   ]
  }
 ],
 "metadata": {
  "kernelspec": {
   "display_name": "Python 3",
   "language": "python",
   "name": "python3"
  },
  "language_info": {
   "codemirror_mode": {
    "name": "ipython",
    "version": 3
   },
   "file_extension": ".py",
   "mimetype": "text/x-python",
   "name": "python",
   "nbconvert_exporter": "python",
   "pygments_lexer": "ipython3",
   "version": "3.13.1"
  }
 },
 "nbformat": 4,
 "nbformat_minor": 2
}
