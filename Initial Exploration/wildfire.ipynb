{
 "cells": [
  {
   "cell_type": "code",
   "execution_count": 2,
   "metadata": {},
   "outputs": [
    {
     "name": "stdout",
     "output_type": "stream",
     "text": [
      "Path to dataset files: C:\\Users\\Taylor\\.cache\\kagglehub\\datasets\\behroozsohrabi\\us-wildfire-records-6th-edition\\versions\\4\n"
     ]
    }
   ],
   "source": [
    "# import kagglehub\n",
    "\n",
    "# # Download latest version\n",
    "# path = kagglehub.dataset_download(\"behroozsohrabi/us-wildfire-records-6th-edition\")\n",
    "\n",
    "# print(\"Path to dataset files:\", path)"
   ]
  },
  {
   "cell_type": "code",
   "execution_count": 3,
   "metadata": {},
   "outputs": [],
   "source": [
    "# df = pd.read_csv('data.csv', nrows = 10000)"
   ]
  },
  {
   "cell_type": "code",
   "execution_count": 4,
   "metadata": {},
   "outputs": [
    {
     "data": {
      "text/plain": [
       "Index(['OBJECTID', 'Shape', 'FOD_ID', 'FPA_ID', 'SOURCE_SYSTEM_TYPE',\n",
       "       'SOURCE_SYSTEM', 'NWCG_REPORTING_AGENCY', 'NWCG_REPORTING_UNIT_ID',\n",
       "       'NWCG_REPORTING_UNIT_NAME', 'SOURCE_REPORTING_UNIT',\n",
       "       'SOURCE_REPORTING_UNIT_NAME', 'LOCAL_FIRE_REPORT_ID',\n",
       "       'LOCAL_INCIDENT_ID', 'FIRE_CODE', 'FIRE_NAME',\n",
       "       'ICS_209_PLUS_INCIDENT_JOIN_ID', 'ICS_209_PLUS_COMPLEX_JOIN_ID',\n",
       "       'MTBS_ID', 'MTBS_FIRE_NAME', 'COMPLEX_NAME', 'FIRE_YEAR',\n",
       "       'DISCOVERY_DATE', 'DISCOVERY_DOY', 'DISCOVERY_TIME',\n",
       "       'NWCG_CAUSE_CLASSIFICATION', 'NWCG_GENERAL_CAUSE',\n",
       "       'NWCG_CAUSE_AGE_CATEGORY', 'CONT_DATE', 'CONT_DOY', 'CONT_TIME',\n",
       "       'FIRE_SIZE', 'FIRE_SIZE_CLASS', 'LATITUDE', 'LONGITUDE', 'OWNER_DESCR',\n",
       "       'STATE', 'COUNTY', 'FIPS_CODE', 'FIPS_NAME'],\n",
       "      dtype='object')"
      ]
     },
     "execution_count": 4,
     "metadata": {},
     "output_type": "execute_result"
    }
   ],
   "source": [
    "df.columns"
   ]
  },
  {
   "cell_type": "code",
   "execution_count": 5,
   "metadata": {},
   "outputs": [
    {
     "data": {
      "text/plain": [
       "OBJECTID                           int64\n",
       "Shape                             object\n",
       "FOD_ID                             int64\n",
       "FPA_ID                            object\n",
       "SOURCE_SYSTEM_TYPE                object\n",
       "SOURCE_SYSTEM                     object\n",
       "NWCG_REPORTING_AGENCY             object\n",
       "NWCG_REPORTING_UNIT_ID            object\n",
       "NWCG_REPORTING_UNIT_NAME          object\n",
       "SOURCE_REPORTING_UNIT              int64\n",
       "SOURCE_REPORTING_UNIT_NAME        object\n",
       "LOCAL_FIRE_REPORT_ID               int64\n",
       "LOCAL_INCIDENT_ID                 object\n",
       "FIRE_CODE                         object\n",
       "FIRE_NAME                         object\n",
       "ICS_209_PLUS_INCIDENT_JOIN_ID     object\n",
       "ICS_209_PLUS_COMPLEX_JOIN_ID      object\n",
       "MTBS_ID                           object\n",
       "MTBS_FIRE_NAME                    object\n",
       "COMPLEX_NAME                      object\n",
       "FIRE_YEAR                          int64\n",
       "DISCOVERY_DATE                    object\n",
       "DISCOVERY_DOY                      int64\n",
       "DISCOVERY_TIME                     int64\n",
       "NWCG_CAUSE_CLASSIFICATION         object\n",
       "NWCG_GENERAL_CAUSE                object\n",
       "NWCG_CAUSE_AGE_CATEGORY           object\n",
       "CONT_DATE                         object\n",
       "CONT_DOY                         float64\n",
       "CONT_TIME                        float64\n",
       "FIRE_SIZE                        float64\n",
       "FIRE_SIZE_CLASS                   object\n",
       "LATITUDE                         float64\n",
       "LONGITUDE                        float64\n",
       "OWNER_DESCR                       object\n",
       "STATE                             object\n",
       "COUNTY                           float64\n",
       "FIPS_CODE                        float64\n",
       "FIPS_NAME                         object\n",
       "dtype: object"
      ]
     },
     "execution_count": 5,
     "metadata": {},
     "output_type": "execute_result"
    }
   ],
   "source": [
    "df.dtypes"
   ]
  },
  {
   "cell_type": "code",
   "execution_count": 6,
   "metadata": {},
   "outputs": [
    {
     "data": {
      "text/plain": [
       "False    10000\n",
       "Name: count, dtype: int64"
      ]
     },
     "execution_count": 6,
     "metadata": {},
     "output_type": "execute_result"
    }
   ],
   "source": [
    "df.duplicated().value_counts()"
   ]
  },
  {
   "cell_type": "code",
   "execution_count": 7,
   "metadata": {},
   "outputs": [
    {
     "data": {
      "text/plain": [
       "0       25\n",
       "1729     3\n",
       "9873     2\n",
       "35       2\n",
       "100      1\n",
       "14       1\n",
       "9535     1\n",
       "9847     1\n",
       "9844     1\n",
       "9909     1\n",
       "37       1\n",
       "Name: count, dtype: int64"
      ]
     },
     "execution_count": 7,
     "metadata": {},
     "output_type": "execute_result"
    }
   ],
   "source": [
    "df.isna().sum().value_counts()"
   ]
  },
  {
   "cell_type": "markdown",
   "metadata": {},
   "source": [
    "# Can use this method to break up the data set into bite sized pieces"
   ]
  },
  {
   "cell_type": "code",
   "execution_count": 8,
   "metadata": {},
   "outputs": [],
   "source": [
    "# df01 = pd.read_csv('data.csv', chunksize=40000)"
   ]
  },
  {
   "cell_type": "code",
   "execution_count": 10,
   "metadata": {},
   "outputs": [
    {
     "name": "stderr",
     "output_type": "stream",
     "text": [
      "C:\\Users\\Taylor\\AppData\\Local\\Temp\\ipykernel_6068\\3370931420.py:1: DtypeWarning: Columns (11,13,16,19) have mixed types. Specify dtype option on import or set low_memory=False.\n",
      "  for i, chunk in enumerate(df01):\n",
      "C:\\Users\\Taylor\\AppData\\Local\\Temp\\ipykernel_6068\\3370931420.py:1: DtypeWarning: Columns (13,16) have mixed types. Specify dtype option on import or set low_memory=False.\n",
      "  for i, chunk in enumerate(df01):\n",
      "C:\\Users\\Taylor\\AppData\\Local\\Temp\\ipykernel_6068\\3370931420.py:1: DtypeWarning: Columns (16,19) have mixed types. Specify dtype option on import or set low_memory=False.\n",
      "  for i, chunk in enumerate(df01):\n"
     ]
    },
    {
     "name": "stdout",
     "output_type": "stream",
     "text": [
      "OBJECTID                             0\n",
      "Shape                                0\n",
      "FOD_ID                               0\n",
      "FPA_ID                               0\n",
      "SOURCE_SYSTEM_TYPE                   0\n",
      "SOURCE_SYSTEM                        0\n",
      "NWCG_REPORTING_AGENCY                0\n",
      "NWCG_REPORTING_UNIT_ID               0\n",
      "NWCG_REPORTING_UNIT_NAME             0\n",
      "SOURCE_REPORTING_UNIT                0\n",
      "SOURCE_REPORTING_UNIT_NAME           0\n",
      "LOCAL_FIRE_REPORT_ID             40000\n",
      "LOCAL_INCIDENT_ID                    0\n",
      "FIRE_CODE                        40000\n",
      "FIRE_NAME                        31459\n",
      "ICS_209_PLUS_INCIDENT_JOIN_ID    39885\n",
      "ICS_209_PLUS_COMPLEX_JOIN_ID     40000\n",
      "MTBS_ID                          39977\n",
      "MTBS_FIRE_NAME                   39977\n",
      "COMPLEX_NAME                     39985\n",
      "FIRE_YEAR                            0\n",
      "DISCOVERY_DATE                       0\n",
      "DISCOVERY_DOY                        0\n",
      "DISCOVERY_TIME                    1793\n",
      "NWCG_CAUSE_CLASSIFICATION            0\n",
      "NWCG_GENERAL_CAUSE                   0\n",
      "NWCG_CAUSE_AGE_CATEGORY          39014\n",
      "CONT_DATE                         1795\n",
      "CONT_DOY                          1795\n",
      "CONT_TIME                         4115\n",
      "FIRE_SIZE                            0\n",
      "FIRE_SIZE_CLASS                      0\n",
      "LATITUDE                             0\n",
      "LONGITUDE                            0\n",
      "OWNER_DESCR                          0\n",
      "STATE                                0\n",
      "COUNTY                            1709\n",
      "FIPS_CODE                         1709\n",
      "FIPS_NAME                         1709\n",
      "dtype: int64\n"
     ]
    },
    {
     "name": "stderr",
     "output_type": "stream",
     "text": [
      "C:\\Users\\Taylor\\AppData\\Local\\Temp\\ipykernel_6068\\3370931420.py:1: DtypeWarning: Columns (19) have mixed types. Specify dtype option on import or set low_memory=False.\n",
      "  for i, chunk in enumerate(df01):\n"
     ]
    }
   ],
   "source": [
    "for i, chunk in enumerate(df01):\n",
    "    if i == 3:\n",
    "        print(chunk.isna().sum())\n",
    "        break"
   ]
  },
  {
   "cell_type": "code",
   "execution_count": 17,
   "metadata": {},
   "outputs": [
    {
     "data": {
      "text/plain": [
       "FIPS_CODE\n",
       "4005.0     733\n",
       "16049.0    247\n",
       "35003.0    240\n",
       "30053.0    222\n",
       "4007.0     221\n",
       "          ... \n",
       "51187.0      1\n",
       "16083.0      1\n",
       "26135.0      1\n",
       "51023.0      1\n",
       "30007.0      1\n",
       "Name: count, Length: 498, dtype: int64"
      ]
     },
     "execution_count": 17,
     "metadata": {},
     "output_type": "execute_result"
    }
   ],
   "source": [
    "df['FIPS_CODE'].value_counts()"
   ]
  },
  {
   "cell_type": "code",
   "execution_count": 11,
   "metadata": {},
   "outputs": [
    {
     "data": {
      "text/plain": [
       "DISCOVERY_DATE\n",
       "8/7/2005      132\n",
       "7/16/2005     132\n",
       "8/8/2005      128\n",
       "8/10/2005     123\n",
       "8/1/2005      118\n",
       "             ... \n",
       "8/30/2004       1\n",
       "4/8/2008        1\n",
       "1/11/2005       1\n",
       "2/3/2005        1\n",
       "10/11/2004      1\n",
       "Name: count, Length: 600, dtype: int64"
      ]
     },
     "execution_count": 11,
     "metadata": {},
     "output_type": "execute_result"
    }
   ],
   "source": [
    "df['DISCOVERY_DATE'].value_counts()"
   ]
  },
  {
   "cell_type": "code",
   "execution_count": 13,
   "metadata": {},
   "outputs": [
    {
     "data": {
      "text/plain": [
       "FOD_ID\n",
       "1        1\n",
       "6704     1\n",
       "6697     1\n",
       "6698     1\n",
       "6699     1\n",
       "        ..\n",
       "3352     1\n",
       "3353     1\n",
       "3354     1\n",
       "3355     1\n",
       "10048    1\n",
       "Name: count, Length: 10000, dtype: int64"
      ]
     },
     "execution_count": 13,
     "metadata": {},
     "output_type": "execute_result"
    }
   ],
   "source": [
    "df['FOD_ID'].value_counts()"
   ]
  },
  {
   "cell_type": "code",
   "execution_count": 16,
   "metadata": {},
   "outputs": [
    {
     "data": {
      "text/plain": [
       "FIPS_NAME\n",
       "Coconino County      733\n",
       "Lincoln County       277\n",
       "Idaho County         247\n",
       "Catron County        240\n",
       "Gila County          221\n",
       "                    ... \n",
       "Gem County             1\n",
       "Greenbrier County      1\n",
       "Webster County         1\n",
       "Power County           1\n",
       "Broadwater County      1\n",
       "Name: count, Length: 412, dtype: int64"
      ]
     },
     "execution_count": 16,
     "metadata": {},
     "output_type": "execute_result"
    }
   ],
   "source": [
    "df['FIPS_NAME'].value_counts()"
   ]
  }
 ],
 "metadata": {
  "kernelspec": {
   "display_name": "Python 3",
   "language": "python",
   "name": "python3"
  },
  "language_info": {
   "codemirror_mode": {
    "name": "ipython",
    "version": 3
   },
   "file_extension": ".py",
   "mimetype": "text/x-python",
   "name": "python",
   "nbconvert_exporter": "python",
   "pygments_lexer": "ipython3",
   "version": "3.13.1"
  }
 },
 "nbformat": 4,
 "nbformat_minor": 2
}
