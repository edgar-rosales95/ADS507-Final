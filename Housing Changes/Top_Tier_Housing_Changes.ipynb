{
 "cells": [
  {
   "cell_type": "code",
   "execution_count": 3,
   "metadata": {},
   "outputs": [
    {
     "data": {
      "text/plain": [
       "Index(['RegionID', 'SizeRank', 'RegionName', 'RegionType', 'StateName',\n",
       "       'State', 'Metro', 'CountyName', '1/31/2000', '2/29/2000', '3/31/2000',\n",
       "       '4/30/2000'],\n",
       "      dtype='object')"
      ]
     },
     "execution_count": 3,
     "metadata": {},
     "output_type": "execute_result"
    }
   ],
   "source": [
    "top_tier_df = pd.read_csv(\"G:/My Drive/Practical Data Engineering - 507/ADS 507 Project/Top Tier Housing Prices by City.csv\")\n",
    "\n",
    "top_tier_df.columns[:12]"
   ]
  },
  {
   "cell_type": "code",
   "execution_count": null,
   "metadata": {},
   "outputs": [],
   "source": [
    "remove_cols = ['RegionType', 'StateName']"
   ]
  },
  {
   "cell_type": "code",
   "execution_count": 11,
   "metadata": {},
   "outputs": [
    {
     "data": {
      "text/plain": [
       "CountyName\n",
       "Washington County     309\n",
       "Jefferson County      220\n",
       "Franklin County       192\n",
       "Montgomery County     188\n",
       "Jackson County        160\n",
       "                     ... \n",
       "Tripp County            1\n",
       "Crane County            1\n",
       "San Saba County         1\n",
       "Musselshell County      1\n",
       "Niobrara County         1\n",
       "Name: count, Length: 1799, dtype: int64"
      ]
     },
     "execution_count": 11,
     "metadata": {},
     "output_type": "execute_result"
    }
   ],
   "source": [
    "top_tier_df['CountyName'].value_counts()"
   ]
  }
 ],
 "metadata": {
  "kernelspec": {
   "display_name": "Python 3",
   "language": "python",
   "name": "python3"
  },
  "language_info": {
   "codemirror_mode": {
    "name": "ipython",
    "version": 3
   },
   "file_extension": ".py",
   "mimetype": "text/x-python",
   "name": "python",
   "nbconvert_exporter": "python",
   "pygments_lexer": "ipython3",
   "version": "3.13.1"
  }
 },
 "nbformat": 4,
 "nbformat_minor": 2
}
