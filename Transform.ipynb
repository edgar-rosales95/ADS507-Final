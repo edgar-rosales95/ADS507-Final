{
 "cells": [
  {
   "cell_type": "code",
   "execution_count": 12,
   "metadata": {},
   "outputs": [],
   "source": [
    "import pandas as pd\n",
    "import mysql.connector as mycon\n",
    "import kagglehub\n",
    "from kagglehub import KaggleDatasetAdapter\n",
    "\n",
    "import pymysql\n",
    "import sqlalchemy \n",
    "from sqlalchemy import create_engine\n",
    "import warnings\n",
    "warnings.filterwarnings(\"ignore\")"
   ]
  },
  {
   "cell_type": "markdown",
   "metadata": {},
   "source": [
    "# This pulls in the wildfire data and reads it"
   ]
  },
  {
   "cell_type": "code",
   "execution_count": 9,
   "metadata": {},
   "outputs": [
    {
     "name": "stderr",
     "output_type": "stream",
     "text": [
      "/Users/edgarrosales/anaconda3/envs/ADS502/lib/python3.11/site-packages/kagglehub/pandas_datasets.py:91: DtypeWarning: Columns (14,38) have mixed types. Specify dtype option on import or set low_memory=False.\n",
      "  result = read_function(\n"
     ]
    },
    {
     "name": "stdout",
     "output_type": "stream",
     "text": [
      "   OBJECTID FIRE_NAME DISCOVERY_DATE NWCG_CAUSE_CLASSIFICATION  \\\n",
      "0         1  FOUNTAIN       2/2/2005                     Human   \n",
      "1         2    PIGEON      5/12/2004                   Natural   \n",
      "2         3     SLACK      5/31/2004                     Human   \n",
      "3         4      DEER      6/28/2004                   Natural   \n",
      "4         5  STEVENOT      6/28/2004                   Natural   \n",
      "\n",
      "                           NWCG_GENERAL_CAUSE  FIRE_SIZE FIRE_SIZE_CLASS  \\\n",
      "0  Power generation/transmission/distribution       0.10               A   \n",
      "1                                     Natural       0.25               A   \n",
      "2                     Debris and open burning       0.10               A   \n",
      "3                                     Natural       0.10               A   \n",
      "4                                     Natural       0.10               A   \n",
      "\n",
      "    LATITUDE   LONGITUDE       OWNER_DESCR STATE         FIPS_NAME  \n",
      "0  40.036944 -121.005833              USFS    CA     Plumas County  \n",
      "1  38.933056 -120.404444              USFS    CA     Placer County  \n",
      "2  38.984167 -120.735556  STATE OR PRIVATE    CA  El Dorado County  \n",
      "3  38.559167 -119.913333              USFS    CA     Alpine County  \n",
      "4  38.559167 -119.933056              USFS    CA     Alpine County  \n"
     ]
    }
   ],
   "source": [
    "use_cols = ['OBJECTID', 'FIRE_NAME', 'LATITUDE', 'LONGITUDE', 'DISCOVERY_DATE', \n",
    "            'NWCG_CAUSE_CLASSIFICATION', 'NWCG_GENERAL_CAUSE', 'FIRE_SIZE', \n",
    "            'FIRE_SIZE_CLASS', 'OWNER_DESCR', 'STATE', 'FIPS_NAME']\n",
    "\n",
    "# Download latest version\n",
    "wildfire_df = kagglehub.load_dataset(\n",
    "    handle=\"behroozsohrabi/us-wildfire-records-6th-edition\", \n",
    "    path=\"data.csv\", \n",
    "    adapter=KaggleDatasetAdapter.PANDAS,  # Ensure adapter is correct\n",
    "    pandas_kwargs={\"usecols\": use_cols}  # No compression!\n",
    ")\n",
    "\n",
    "print(wildfire_df.head())\n"
   ]
  },
  {
   "cell_type": "code",
   "execution_count": 10,
   "metadata": {},
   "outputs": [],
   "source": [
    "# wildfire_df = pd.read_csv('data.csv')\n",
    "# Convert DISCOVERY_DATE to datetime object to remove records prior to year 2000\n",
    "\n",
    "wildfire_df['DISCOVERY_DATE'] = pd.to_datetime(wildfire_df['DISCOVERY_DATE'], format = ('%m/%d/%Y'))\n",
    "\n",
    "wildfire_df = wildfire_df[wildfire_df['DISCOVERY_DATE'].dt.year > 2000]"
   ]
  },
  {
   "cell_type": "code",
   "execution_count": 11,
   "metadata": {},
   "outputs": [],
   "source": [
    "# Rename some columns for clarity\n",
    "\n",
    "wildfire_df = wildfire_df.rename(columns = {\"NWCG_CAUSE_CLASSIFICATION\": \"CAUSE_CLASSIFICATION\", \"NWCG_GENERAL_CAUSE\": \"SPECIFIC_CAUSE\", \n",
    "                                            \"OWNER_DESCR\": \"RESPONSIBLE_ENTITY\", \"FIPS_NAME\": \"COUNTY\"})"
   ]
  },
  {
   "cell_type": "markdown",
   "metadata": {},
   "source": [
    "# This pulls in housing data"
   ]
  },
  {
   "cell_type": "code",
   "execution_count": 10,
   "metadata": {},
   "outputs": [],
   "source": [
    "bottom_tier_housing = pd.read_parquet('data/bottom_housing.parquet')\n",
    "top_tier_housing = pd.read_parquet('data/top_housing.parquet')"
   ]
  },
  {
   "cell_type": "markdown",
   "metadata": {},
   "source": [
    "## Remove Columns we don't use"
   ]
  },
  {
   "cell_type": "code",
   "execution_count": 11,
   "metadata": {},
   "outputs": [],
   "source": [
    "remove_cols = ['RegionID', 'RegionType', 'StateName', 'Metro', 'SizeRank']\n",
    "\n",
    "bottom_tier_housing.drop(columns = remove_cols, inplace = True)\n",
    "top_tier_housing.drop(columns = remove_cols, inplace = True)"
   ]
  },
  {
   "cell_type": "markdown",
   "metadata": {},
   "source": [
    "## Remove rows with states we aren't using in a way that modifies the original dataframe in-place"
   ]
  },
  {
   "cell_type": "code",
   "execution_count": 12,
   "metadata": {},
   "outputs": [],
   "source": [
    "states = ['CA', 'TX', 'GA', 'FL', 'AZ']\n",
    "\n",
    "bottom_tier_housing.loc[~bottom_tier_housing['State'].isin(states), :] = None\n",
    "top_tier_housing.loc[~top_tier_housing['State'].isin(states), :] = None\n",
    "\n",
    "bottom_tier_housing.dropna(inplace = True)\n",
    "top_tier_housing.dropna(inplace = True)\n"
   ]
  },
  {
   "cell_type": "markdown",
   "metadata": {},
   "source": [
    "## Combine the data frames and pivot long the dates and prices"
   ]
  },
  {
   "cell_type": "code",
   "execution_count": 13,
   "metadata": {},
   "outputs": [],
   "source": [
    "housing_df = pd.concat([bottom_tier_housing, top_tier_housing], axis = 0, ignore_index = True)"
   ]
  },
  {
   "cell_type": "code",
   "execution_count": 14,
   "metadata": {},
   "outputs": [],
   "source": [
    "housing_df = housing_df.melt(id_vars = ['RegionName', 'State', 'CountyName'], var_name = 'Date', value_name = 'Price')\n",
    "# housing_df['Price'] = housing_df['Price'].astype('float').round(2).map('{:.2f}'.format)\n",
    "housing_df['Date'] = pd.to_datetime(housing_df['Date'])"
   ]
  },
  {
   "cell_type": "markdown",
   "metadata": {},
   "source": [
    "## Add price_id for each record"
   ]
  },
  {
   "cell_type": "code",
   "execution_count": 15,
   "metadata": {},
   "outputs": [],
   "source": [
    "housing_df.insert(0, 'PRICE_ID', range(1, len(housing_df) + 1))"
   ]
  },
  {
   "cell_type": "markdown",
   "metadata": {},
   "source": [
    "## Map states to FIPS code"
   ]
  },
  {
   "cell_type": "code",
   "execution_count": 16,
   "metadata": {},
   "outputs": [],
   "source": [
    "map = {'CA': 6, 'AZ': 4, 'TX': 48, 'FL': 12, 'GA': 13}\n",
    "housing_df['STATE_ID'] = housing_df['State'].map(map)\n",
    "# housing_df.drop(columns = 'State', inplace = True)"
   ]
  },
  {
   "cell_type": "markdown",
   "metadata": {},
   "source": [
    "# Rent Data (load and remove columns'state values)"
   ]
  },
  {
   "cell_type": "code",
   "execution_count": 17,
   "metadata": {},
   "outputs": [],
   "source": [
    "rent_index = pd.read_csv(\"data/Observed Rent Index by City.csv\")"
   ]
  },
  {
   "cell_type": "code",
   "execution_count": 18,
   "metadata": {},
   "outputs": [],
   "source": [
    "# Columns and state values to remove are same as housing sales data\n",
    "\n",
    "rent_index.drop(columns = remove_cols, inplace = True)\n",
    "rent_index.loc[~rent_index['State'].isin(states), :] = None\n",
    "\n",
    "rent_index.dropna(inplace = True)"
   ]
  },
  {
   "cell_type": "markdown",
   "metadata": {},
   "source": [
    "## Pivot long the date and price data"
   ]
  },
  {
   "cell_type": "code",
   "execution_count": 19,
   "metadata": {},
   "outputs": [],
   "source": [
    "rent_index = rent_index.melt(id_vars = ['RegionName', 'State', 'CountyName'], var_name = 'Date', value_name = 'Price')\n",
    "rent_index['Date'] = pd.to_datetime(housing_df['Date'])"
   ]
  },
  {
   "cell_type": "markdown",
   "metadata": {},
   "source": [
    "## Create price index"
   ]
  },
  {
   "cell_type": "code",
   "execution_count": 20,
   "metadata": {},
   "outputs": [],
   "source": [
    "rent_index.insert(0, 'RENT_ID', range(1, len(rent_index) + 1))"
   ]
  },
  {
   "cell_type": "markdown",
   "metadata": {},
   "source": [
    "## Map state codes"
   ]
  },
  {
   "cell_type": "code",
   "execution_count": 21,
   "metadata": {},
   "outputs": [],
   "source": [
    "rent_index['STATE_ID'] = rent_index['State'].map(map)\n",
    "# housing_df.drop(columns = 'State', inplace = True)"
   ]
  },
  {
   "cell_type": "markdown",
   "metadata": {},
   "source": [
    "# Load Population Data into dictionary"
   ]
  },
  {
   "cell_type": "code",
   "execution_count": 22,
   "metadata": {},
   "outputs": [],
   "source": [
    "state_population_dict = {}\n",
    "\n",
    "for state in states:\n",
    "    state_population_dict[state] = pd.read_csv(f\"data/{state} City population estimates.csv\")"
   ]
  },
  {
   "cell_type": "code",
   "execution_count": 23,
   "metadata": {},
   "outputs": [],
   "source": [
    "columns_to_drop = ['SUMLEV', 'COUSUB', 'CONCIT', 'PRIMGEO_FLAG', 'FUNCSTAT', 'STNAME', 'ESTIMATESBASE2010', 'POPESTIMATE2010', 'STATE', 'COUNTY', 'PLACE']"
   ]
  },
  {
   "cell_type": "markdown",
   "metadata": {},
   "source": [
    "## Iterate through df's and create PLACES_ID column and drop unnecessary columns"
   ]
  },
  {
   "cell_type": "code",
   "execution_count": 24,
   "metadata": {},
   "outputs": [],
   "source": [
    "for key, value in state_population_dict.items():\n",
    "    df = state_population_dict[f\"{key}\"]\n",
    "    df['PLACES_ID'] = df[['STATE', 'COUNTY', 'PLACE']].astype('str').agg('-'.join, axis = 1)\n",
    "    df.drop(columns = columns_to_drop, inplace = True)\n",
    "    df.insert(0, 'PLACES_ID', df.pop('PLACES_ID'))"
   ]
  },
  {
   "cell_type": "markdown",
   "metadata": {},
   "source": [
    "# MySql server connection "
   ]
  },
  {
   "cell_type": "code",
   "execution_count": 15,
   "metadata": {},
   "outputs": [
    {
     "name": "stdout",
     "output_type": "stream",
     "text": [
      "Connected successfully!\n"
     ]
    }
   ],
   "source": [
    "# Connection details\n",
    "userName = \"erosales\"\n",
    "userPass = \"Password1\"  # Replace with your actual password\n",
    "server = \"safehaven1.mysql.database.azure.com\"\n",
    "database = \"sh-1\"\n",
    "\n",
    "# Path to the Azure SSL Certificate (Download it if you haven't)\n",
    "ssl_cert_path = \"DigiCertGlobalRootCA.crt.pem\"  # Ensure this file exists in your working directory\n",
    "\n",
    "# Establish the secure connection\n",
    "conn = pymysql.connect(\n",
    "    host=server,\n",
    "    port=3306,\n",
    "    user=userName,\n",
    "    passwd=userPass,\n",
    "    db=database,\n",
    "    ssl={\"ssl\": {\"ca\": ssl_cert_path}}  # Using SSL\n",
    ")\n",
    "\n",
    "print(\"Connected successfully!\")\n"
   ]
  },
  {
   "cell_type": "markdown",
   "metadata": {},
   "source": []
  }
 ],
 "metadata": {
  "kernelspec": {
   "display_name": "Python 3.11.8 ('ADS502')",
   "language": "python",
   "name": "python3"
  },
  "language_info": {
   "codemirror_mode": {
    "name": "ipython",
    "version": 3
   },
   "file_extension": ".py",
   "mimetype": "text/x-python",
   "name": "python",
   "nbconvert_exporter": "python",
   "pygments_lexer": "ipython3",
   "version": "3.11.8"
  },
  "vscode": {
   "interpreter": {
    "hash": "10ba6ea6883284b9a5e5a19eef9331b0456d294fc7027e3e48965f1b41e57e06"
   }
  }
 },
 "nbformat": 4,
 "nbformat_minor": 2
}
