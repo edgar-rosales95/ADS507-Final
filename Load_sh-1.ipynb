{
 "cells": [
  {
   "cell_type": "code",
   "execution_count": 7,
   "metadata": {},
   "outputs": [],
   "source": [
    "import pandas as pd\n",
    "import pymysql\n",
    "import sqlalchemy \n",
    "from sqlalchemy import create_engine\n",
    "import warnings\n",
    "warnings.filterwarnings(\"ignore\")"
   ]
  },
  {
   "cell_type": "markdown",
   "metadata": {},
   "source": [
    "## Establish Connection "
   ]
  },
  {
   "cell_type": "code",
   "execution_count": 2,
   "metadata": {},
   "outputs": [
    {
     "name": "stdout",
     "output_type": "stream",
     "text": [
      "Connected successfully!\n"
     ]
    }
   ],
   "source": [
    "# Connection details\n",
    "userName = \"erosales\"\n",
    "userPass = \"Password1\" \n",
    "server = \"safehaven1.mysql.database.azure.com\"\n",
    "database = \"sh-1\"\n",
    "\n",
    "# Path to the Azure SSL Certificate (Download it if you haven't)\n",
    "ssl_cert_path = \"DigiCertGlobalRootCA.crt.pem\"  \n",
    "\n",
    "# Establish the secure connection\n",
    "conn = pymysql.connect(\n",
    "    host=server,\n",
    "    port=3306,\n",
    "    user=userName,\n",
    "    passwd=userPass,\n",
    "    db=database,\n",
    "    ssl={\"ssl\": {\"ca\": ssl_cert_path}}  # Using SSL\n",
    ")\n",
    "\n",
    "print(\"Connected successfully!\")"
   ]
  },
  {
   "cell_type": "code",
   "execution_count": 8,
   "metadata": {},
   "outputs": [
    {
     "name": "stdout",
     "output_type": "stream",
     "text": [
      "tables \n",
      "Empty DataFrame\n",
      "Columns: [Tables_in_sh-1]\n",
      "Index: []\n"
     ]
    }
   ],
   "source": []
  },
  {
   "cell_type": "code",
   "execution_count": null,
   "metadata": {},
   "outputs": [],
   "source": []
  },
  {
   "cell_type": "code",
   "execution_count": null,
   "metadata": {},
   "outputs": [],
   "source": []
  },
  {
   "cell_type": "code",
   "execution_count": null,
   "metadata": {},
   "outputs": [],
   "source": []
  },
  {
   "cell_type": "code",
   "execution_count": null,
   "metadata": {},
   "outputs": [],
   "source": []
  },
  {
   "cell_type": "code",
   "execution_count": null,
   "metadata": {},
   "outputs": [],
   "source": []
  }
 ],
 "metadata": {
  "kernelspec": {
   "display_name": "Python 3.11.8 ('ADS502')",
   "language": "python",
   "name": "python3"
  },
  "language_info": {
   "codemirror_mode": {
    "name": "ipython",
    "version": 3
   },
   "file_extension": ".py",
   "mimetype": "text/x-python",
   "name": "python",
   "nbconvert_exporter": "python",
   "pygments_lexer": "ipython3",
   "version": "3.11.8"
  },
  "orig_nbformat": 4,
  "vscode": {
   "interpreter": {
    "hash": "10ba6ea6883284b9a5e5a19eef9331b0456d294fc7027e3e48965f1b41e57e06"
   }
  }
 },
 "nbformat": 4,
 "nbformat_minor": 2
}
